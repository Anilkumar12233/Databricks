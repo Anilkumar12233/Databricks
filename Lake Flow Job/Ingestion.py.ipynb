{
 "cells": [
  {
   "cell_type": "code",
   "execution_count": 0,
   "metadata": {
    "application/vnd.databricks.v1+cell": {
     "cellMetadata": {
      "byteLimit": 2048000,
      "implicitDf": true,
      "rowLimit": 10000
     },
     "inputWidgets": {},
     "nuid": "8aff6ec4-5d8f-4495-b826-c7761d20c499",
     "showTitle": false,
     "tableResultSettingsMap": {},
     "title": ""
    }
   },
   "outputs": [],
   "source": [
    "%sql\n",
    "-- Create a catalog for production\n",
    "CREATE CATALOG IF NOT EXISTS sales;\n",
    "\n",
    "-- Create schemas for medallion layers\n",
    "CREATE SCHEMA IF NOT EXISTS sales.bronze;\n",
    "CREATE SCHEMA IF NOT EXISTS sales.silver;\n",
    "CREATE SCHEMA IF NOT EXISTS sales.gold;\n",
    "\n",
    "-- Create a managed volume for raw landing data\n",
    "CREATE VOLUME IF NOT EXISTS sales.bronze.raw_sales_volume;\n"
   ]
  },
  {
   "cell_type": "code",
   "execution_count": 0,
   "metadata": {
    "application/vnd.databricks.v1+cell": {
     "cellMetadata": {
      "byteLimit": 2048000,
      "rowLimit": 10000
     },
     "inputWidgets": {},
     "nuid": "92d1e90e-191c-4ee9-8a0d-d946db706831",
     "showTitle": false,
     "tableResultSettingsMap": {},
     "title": ""
    }
   },
   "outputs": [],
   "source": [
    "from pyspark.sql.functions import *\n",
    "from pyspark.sql.types import *\n",
    "\n",
    "# Source folder for raw files\n",
    "source_path = \"/Volumes/sales/bronze/raw_sales_volume/\"\n",
    "\n",
    "# Schema and checkpoint inside the same volume\n",
    "schema_path = \"/Volumes/sales/bronze/raw_sales_volume/_schemas/netflix/\"\n",
    "checkpoint_path = \"/Volumes/sales/bronze/raw_sales_volume/_checkpoints/netflix/\"\n",
    "\n",
    "# Read stream with Autoloader\n",
    "df_netflix = (\n",
    "    spark.readStream.format(\"cloudFiles\")\n",
    "        .option(\"cloudFiles.format\", \"csv\")\n",
    "        .option(\"cloudFiles.schemaLocation\", schema_path)\n",
    "        .option(\"cloudFiles.schemaEvolutionMode\", \"addNewColumns\")\n",
    "        .load(source_path)\n",
    ")\n",
    "\n",
    "# Write to a Delta table\n",
    "df_netflix.writeStream.format(\"delta\") \\\n",
    "    .option(\"checkpointLocation\", checkpoint_path) \\\n",
    "    .trigger(once=True) \\\n",
    "    .toTable(\"sales.bronze.netflix_data\")\n"
   ]
  },
  {
   "cell_type": "code",
   "execution_count": 0,
   "metadata": {
    "application/vnd.databricks.v1+cell": {
     "cellMetadata": {
      "byteLimit": 2048000,
      "implicitDf": true,
      "rowLimit": 10000
     },
     "inputWidgets": {},
     "nuid": "9404f75f-4965-40b5-9ef0-91c67994f530",
     "showTitle": false,
     "tableResultSettingsMap": {},
     "title": ""
    }
   },
   "outputs": [],
   "source": [
    "%sql\n",
    "select * from sales.bronze.netflix_data\n"
   ]
  },
  {
   "cell_type": "code",
   "execution_count": 0,
   "metadata": {
    "application/vnd.databricks.v1+cell": {
     "cellMetadata": {
      "byteLimit": 2048000,
      "implicitDf": true,
      "rowLimit": 10000
     },
     "inputWidgets": {},
     "nuid": "242d2daa-d599-4a53-8f9a-2de2db3e9713",
     "showTitle": false,
     "tableResultSettingsMap": {},
     "title": ""
    }
   },
   "outputs": [],
   "source": [
    "%sql\n",
    "DESCRIBE HISTORY sales.bronze.netflix_data;\n"
   ]
  }
 ],
 "metadata": {
  "application/vnd.databricks.v1+notebook": {
   "computePreferences": null,
   "dashboards": [],
   "environmentMetadata": {
    "base_environment": "",
    "environment_version": "3"
   },
   "inputWidgetPreferences": null,
   "language": "python",
   "notebookMetadata": {
    "mostRecentlyExecutedCommandWithImplicitDF": {
     "commandId": 8454561447401448,
     "dataframes": [
      "_sqldf"
     ]
    },
    "pythonIndentUnit": 4
   },
   "notebookName": "Ingestion.py",
   "widgets": {}
  },
  "language_info": {
   "name": "python"
  }
 },
 "nbformat": 4,
 "nbformat_minor": 0
}
